{
  "nbformat": 4,
  "nbformat_minor": 0,
  "metadata": {
    "colab": {
      "name": "Tensorflor Single Stock Regression.ipynb",
      "provenance": [],
      "collapsed_sections": [],
      "include_colab_link": true
    },
    "kernelspec": {
      "name": "python3",
      "display_name": "Python 3"
    }
  },
  "cells": [
    {
      "cell_type": "markdown",
      "metadata": {
        "id": "view-in-github",
        "colab_type": "text"
      },
      "source": [
        "<a href=\"https://colab.research.google.com/github/xexx12345/-folio/blob/master/Tensorflor_Single_Stock_Regression.ipynb\" target=\"_parent\"><img src=\"https://colab.research.google.com/assets/colab-badge.svg\" alt=\"Open In Colab\"/></a>"
      ]
    },
    {
      "cell_type": "markdown",
      "metadata": {
        "id": "LXN7-_KvOp1F",
        "colab_type": "text"
      },
      "source": [
        "https://github.com/LiamConnell/deep-algotrading/blob/master/notebooks/TF-FIN-1-singlestock_regresion.ipynb"
      ]
    },
    {
      "cell_type": "code",
      "metadata": {
        "id": "PW88VEuQ4gUK",
        "colab_type": "code",
        "outputId": "8cb592d4-dafc-42cf-c4d1-cf1f54ec3cfd",
        "colab": {
          "base_uri": "https://localhost:8080/",
          "height": 85
        }
      },
      "source": [
        "%pylab inline\n",
        "import matplotlib.pyplot as plt\n",
        "import tensorflow as tf\n",
        "import numpy as np\n",
        "import numpy.random as rng\n",
        "import pandas_datareader.data as web\n",
        "import numpy as np\n",
        "import pandas as pd\n",
        "!pip install yahoofinancials \n"
      ],
      "execution_count": 4,
      "outputs": [
        {
          "output_type": "stream",
          "text": [
            "Populating the interactive namespace from numpy and matplotlib\n",
            "Requirement already satisfied: yahoofinancials in /usr/local/lib/python3.6/dist-packages (1.5)\n",
            "Requirement already satisfied: pytz in /usr/local/lib/python3.6/dist-packages (from yahoofinancials) (2018.9)\n",
            "Requirement already satisfied: beautifulsoup4 in /usr/local/lib/python3.6/dist-packages (from yahoofinancials) (4.6.3)\n"
          ],
          "name": "stdout"
        }
      ]
    },
    {
      "cell_type": "code",
      "metadata": {
        "id": "TxCYnECG9LJR",
        "colab_type": "code",
        "colab": {}
      },
      "source": [
        "def get_historical_data(ticker = \"AAPL\", start_date = \"2017-11-29\", end_date = \"2019-11-29\", time_interval = \"daily\"):\n",
        "    '''Returns Open, High, Low, Close, Volume with Date set as an Index'''\n",
        "    yahoo_financials = YahooFinancials(ticker)\n",
        "    yahoo_price = yahoo_financials.get_historical_price_data(start_date, end_date, time_interval)\n",
        "    yahoo_price = yahoo_price[ticker]['prices']\n",
        "    df = pd.DataFrame.from_dict(yahoo_price)\n",
        "    df.set_index('formatted_date', inplace = True)\n",
        "    #df = df[[\"open\",\"high\",\"low\",\"close\",\"volume\"]]\n",
        "    df.index.names = ['date']\n",
        "    df = df[['adjclose']]\n",
        "    df = df.rename(columns = {'adjclose': ticker})\n",
        "    df.to_csv(\"{}_{} to {}.csv\".format(ticker, start_date, end_date))\n",
        "\n",
        "    return df"
      ],
      "execution_count": 0,
      "outputs": []
    },
    {
      "cell_type": "code",
      "metadata": {
        "id": "CgUTB3lV4h0o",
        "colab_type": "code",
        "colab": {}
      },
      "source": [
        "def get_prices(symbol):\n",
        "    start, end = '2007-05-02', '2016-04-11'\n",
        "    data = get_historical_data(ticker = \"GOOGL\", start_date = start, end_date = end)\n",
        "    #data=pd.DataFrame(data)\n",
        "    prices=data['GOOGL']\n",
        "    #prices=np.asarray(list(prices))\n",
        "    prices=prices.astype(float)\n",
        "    return prices\n",
        "\n",
        "def get_returns(prices):\n",
        "    return (prices-prices.shift(-1))/prices\n",
        "\n",
        "def sort_data(rets):\n",
        "    ins = []\n",
        "    outs = []\n",
        "    for i in range(len(rets)-100):\n",
        "        ins.append(rets[i:i+100].tolist())\n",
        "        outs.append(rets[i+100])\n",
        "    return np.array(ins), np.array(outs)"
      ],
      "execution_count": 0,
      "outputs": []
    },
    {
      "cell_type": "code",
      "metadata": {
        "id": "D8U4Pq774ocI",
        "colab_type": "code",
        "colab": {}
      },
      "source": [
        "# separate data into inputs and outputs for training and testing\n",
        "gs = get_prices('GS')\n",
        "rets = get_returns(gs)\n",
        "ins, outs = sort_data(rets)\n",
        "div = int(.8 * ins.shape[0])\n",
        "train_ins, train_outs = ins[:div], outs[:div]\n",
        "test_ins, test_outs = ins[div:], outs[div:]"
      ],
      "execution_count": 0,
      "outputs": []
    },
    {
      "cell_type": "code",
      "metadata": {
        "id": "GP__LkIL4p9_",
        "colab_type": "code",
        "colab": {
          "base_uri": "https://localhost:8080/",
          "height": 238
        },
        "outputId": "6bfcf1a5-9287-4cd7-ac5c-dbb867208b3f"
      },
      "source": [
        "\n",
        "print(test_ins)"
      ],
      "execution_count": 11,
      "outputs": [
        {
          "output_type": "stream",
          "text": [
            "[[-0.01016051 -0.00275744 -0.00110811 ... -0.0085723  -0.00268402\n",
            "   0.00360216]\n",
            " [-0.00275744 -0.00110811  0.00395209 ... -0.00268402  0.00360216\n",
            "   0.00817564]\n",
            " [-0.00110811  0.00395209  0.0026506  ...  0.00360216  0.00817564\n",
            "  -0.0015717 ]\n",
            " ...\n",
            " [-0.00921846  0.01139493  0.02175726 ...  0.00591161  0.00856073\n",
            "  -0.01252356]\n",
            " [ 0.01139493  0.02175726 -0.01398513 ...  0.00856073 -0.01252356\n",
            "   0.01035063]\n",
            " [ 0.02175726 -0.01398513  0.00591669 ... -0.01252356  0.01035063\n",
            "   0.00085516]]\n"
          ],
          "name": "stdout"
        }
      ]
    },
    {
      "cell_type": "code",
      "metadata": {
        "id": "4Pn71Nq3L80h",
        "colab_type": "code",
        "colab": {}
      },
      "source": [
        "sess = tf.InteractiveSession()"
      ],
      "execution_count": 0,
      "outputs": []
    },
    {
      "cell_type": "code",
      "metadata": {
        "id": "tCa2A_QqL-i2",
        "colab_type": "code",
        "colab": {
          "base_uri": "https://localhost:8080/",
          "height": 88
        },
        "outputId": "060a4fff-15b4-4978-a5e4-8a6c6e6c4728"
      },
      "source": [
        "# we define two placeholders for our input and output\n",
        "x = tf.placeholder(tf.float32, [None, 100])\n",
        "y_ = tf.placeholder(tf.float32, [None, 1])\n",
        "\n",
        "# we define trainable variables for our model\n",
        "W = tf.Variable(tf.random_normal([100, 1]))\n",
        "b = tf.Variable(tf.random_normal([1]))\n",
        "\n",
        "# we define our model: y = W*x + b\n",
        "y = tf.matmul(x, W) + b\n",
        "\n",
        "#MSE:\n",
        "cost = tf.reduce_sum(tf.pow(y-y_, 2))/(2*1000)\n",
        "optimizer = tf.train.GradientDescentOptimizer(0.5).minimize(cost)"
      ],
      "execution_count": 13,
      "outputs": [
        {
          "output_type": "stream",
          "text": [
            "WARNING:tensorflow:From /usr/local/lib/python3.6/dist-packages/tensorflow_core/python/ops/math_grad.py:1375: where (from tensorflow.python.ops.array_ops) is deprecated and will be removed in a future version.\n",
            "Instructions for updating:\n",
            "Use tf.where in 2.0, which has the same broadcast rule as np.where\n"
          ],
          "name": "stdout"
        }
      ]
    },
    {
      "cell_type": "code",
      "metadata": {
        "id": "x71vQLc-L_63",
        "colab_type": "code",
        "colab": {
          "base_uri": "https://localhost:8080/",
          "height": 357
        },
        "outputId": "305ade74-37a1-4a57-f0d6-8cccc5f5ffec"
      },
      "source": [
        "# initialize variables to random values\n",
        "init = tf.global_variables_initializer()\n",
        "sess.run(init)\n",
        "# run optimizer on entire training data set many times\n",
        "for epoch in range(20000):\n",
        "    sess.run(optimizer, feed_dict={x: train_ins, y_: train_outs.reshape(1,-1).T})\n",
        "    # every 1000 iterations record progress\n",
        "    if (epoch+1)%1000== 0:\n",
        "        c = sess.run(cost, feed_dict={x: train_ins, y_: train_outs.reshape(1,-1).T})\n",
        "        print(\"Epoch:\", '%04d' % (epoch+1), \"cost=\", \"{:.9f}\".format(c))"
      ],
      "execution_count": 14,
      "outputs": [
        {
          "output_type": "stream",
          "text": [
            "Epoch: 1000 cost= 0.016899833\n",
            "Epoch: 2000 cost= 0.008517079\n",
            "Epoch: 3000 cost= 0.004487764\n",
            "Epoch: 4000 cost= 0.002489103\n",
            "Epoch: 5000 cost= 0.001472707\n",
            "Epoch: 6000 cost= 0.000945117\n",
            "Epoch: 7000 cost= 0.000666358\n",
            "Epoch: 8000 cost= 0.000516699\n",
            "Epoch: 9000 cost= 0.000435149\n",
            "Epoch: 10000 cost= 0.000390082\n",
            "Epoch: 11000 cost= 0.000364839\n",
            "Epoch: 12000 cost= 0.000350517\n",
            "Epoch: 13000 cost= 0.000342290\n",
            "Epoch: 14000 cost= 0.000337509\n",
            "Epoch: 15000 cost= 0.000334700\n",
            "Epoch: 16000 cost= 0.000333032\n",
            "Epoch: 17000 cost= 0.000332032\n",
            "Epoch: 18000 cost= 0.000331427\n",
            "Epoch: 19000 cost= 0.000331057\n",
            "Epoch: 20000 cost= 0.000330831\n"
          ],
          "name": "stdout"
        }
      ]
    },
    {
      "cell_type": "code",
      "metadata": {
        "id": "uoJhXYTSMBcr",
        "colab_type": "code",
        "colab": {
          "base_uri": "https://localhost:8080/",
          "height": 282
        },
        "outputId": "eac584cb-2422-43a2-9c95-0e71fd4aab69"
      },
      "source": [
        "#train results :)\n",
        "predict = y\n",
        "p = sess.run(predict, feed_dict={x: train_ins})\n",
        "position = 2*((p>0)-.5)\n",
        "returns= position.reshape(-1) * train_outs\n",
        "plot(np.cumprod(returns+1))"
      ],
      "execution_count": 15,
      "outputs": [
        {
          "output_type": "execute_result",
          "data": {
            "text/plain": [
              "[<matplotlib.lines.Line2D at 0x7f94beef0908>]"
            ]
          },
          "metadata": {
            "tags": []
          },
          "execution_count": 15
        },
        {
          "output_type": "display_data",
          "data": {
            "image/png": "[encoded data removed]",
            "text/plain": [
              "<Figure size 432x288 with 1 Axes>"
            ]
          },
          "metadata": {
            "tags": []
          }
        }
      ]
    },
    {
      "cell_type": "code",
      "metadata": {
        "id": "NKcgD-ulME2T",
        "colab_type": "code",
        "colab": {
          "base_uri": "https://localhost:8080/",
          "height": 282
        },
        "outputId": "566a4692-c565-4bc1-dad4-ed8fb24685a8"
      },
      "source": [
        "#test results :(\n",
        "predict = y\n",
        "p = sess.run(predict, feed_dict={x: test_ins})\n",
        "position = 2*((p>0)-.5)\n",
        "returns= position.reshape(-1) * test_outs\n",
        "plot(np.cumprod(returns+1))"
      ],
      "execution_count": 16,
      "outputs": [
        {
          "output_type": "execute_result",
          "data": {
            "text/plain": [
              "[<matplotlib.lines.Line2D at 0x7f94b7eb07b8>]"
            ]
          },
          "metadata": {
            "tags": []
          },
          "execution_count": 16
        },
        {
          "output_type": "display_data",
          "data": {
            "image/png": "[encoded data removed]",
            "text/plain": [
              "<Figure size 432x288 with 1 Axes>"
            ]
          },
          "metadata": {
            "tags": []
          }
        }
      ]
    },
    {
      "cell_type": "code",
      "metadata": {
        "id": "gtCxRBp5MHc4",
        "colab_type": "code",
        "colab": {}
      },
      "source": [
        ""
      ],
      "execution_count": 0,
      "outputs": []
    }
  ]
}